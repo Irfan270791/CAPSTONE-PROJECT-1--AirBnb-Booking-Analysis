{
  "nbformat": 4,
  "nbformat_minor": 0,
  "metadata": {
    "colab": {
      "private_outputs": true,
      "provenance": [],
      "collapsed_sections": [
        "vncDsAP0Gaoa",
        "FJNUwmbgGyua",
        "w6K7xa23Elo4",
        "yQaldy8SH6Dl",
        "PH-0ReGfmX4f",
        "mDgbUHAGgjLW",
        "O_i_v8NEhb9l",
        "HhfV-JJviCcP",
        "Y3lxredqlCYt",
        "3RnN4peoiCZX",
        "x71ZqKXriCWQ",
        "7hBIi_osiCS2",
        "JlHwYmJAmNHm",
        "35m5QtbWiB9F",
        "PoPl-ycgm1ru",
        "H0kj-8xxnORC",
        "nA9Y7ga8ng1Z",
        "PBTbrJXOngz2",
        "u3PMJOP6ngxN",
        "dauF4eBmngu3",
        "bKJF3rekwFvQ",
        "MSa1f5Uengrz",
        "GF8Ens_Soomf",
        "0wOQAZs5pc--",
        "K5QZ13OEpz2H",
        "lQ7QKXXCp7Bj",
        "448CDAPjqfQr",
        "KSlN3yHqYklG",
        "t6dVpIINYklI",
        "ijmpgYnKYklI",
        "-JiQyfWJYklI",
        "EM7whBJCYoAo",
        "fge-S5ZAYoAp",
        "85gYPyotYoAp",
        "RoGjAbkUYoAp",
        "4Of9eVA-YrdM",
        "iky9q4vBYrdO",
        "F6T5p64dYrdO",
        "y-Ehk30pYrdP",
        "bamQiAODYuh1",
        "QHF8YVU7Yuh3",
        "GwzvFGzlYuh3",
        "qYpmQ266Yuh3",
        "OH-pJp9IphqM",
        "bbFf2-_FphqN",
        "_ouA3fa0phqN",
        "Seke61FWphqN",
        "PIIx-8_IphqN",
        "t27r6nlMphqO",
        "r2jJGEOYphqO",
        "b0JNsNcRphqO",
        "BZR9WyysphqO",
        "jj7wYXLtphqO",
        "eZrbJ2SmphqO",
        "rFu4xreNphqO",
        "YJ55k-q6phqO",
        "gCFgpxoyphqP",
        "OVtJsKN_phqQ",
        "lssrdh5qphqQ",
        "U2RJ9gkRphqQ",
        "1M8mcRywphqQ",
        "tgIPom80phqQ",
        "JMzcOPDDphqR",
        "x-EpHcCOp1ci",
        "X_VqEhTip1ck",
        "8zGJKyg5p1ck",
        "PVzmfK_Ep1ck",
        "n3dbpmDWp1ck",
        "ylSl6qgtp1ck",
        "ZWILFDl5p1ck",
        "M7G43BXep1ck",
        "Ag9LCva-p1cl",
        "E6MkPsBcp1cl",
        "2cELzS2fp1cl",
        "3MPXvC8up1cl",
        "NC_X3p0fY2L0",
        "UV0SzAkaZNRQ",
        "YPEH6qLeZNRQ",
        "q29F0dvdveiT",
        "EXh0U9oCveiU",
        "22aHeOlLveiV",
        "JcMwzZxoAimU",
        "8G2x9gOozGDZ",
        "gCX9965dhzqZ",
        "gIfDvo9L0UH2"
      ],
      "include_colab_link": true
    },
    "kernelspec": {
      "name": "python3",
      "display_name": "Python 3"
    },
    "language_info": {
      "name": "python"
    }
  },
  "cells": [
    {
      "cell_type": "markdown",
      "metadata": {
        "id": "view-in-github",
        "colab_type": "text"
      },
      "source": [
        "<a href=\"https://colab.research.google.com/github/Irfan270791/CAPSTONE-PROJECT-1--AirBnb-Booking-Analysis/blob/main/IM_EDA_Air_bnb_EDA_PROJECT_.ipynb\" target=\"_parent\"><img src=\"https://colab.research.google.com/assets/colab-badge.svg\" alt=\"Open In Colab\"/></a>"
      ]
    },
    {
      "cell_type": "markdown",
      "source": [
        "# **Project Name**    -  Air bnb EDA PROJECT.\n",
        "\n"
      ],
      "metadata": {
        "id": "vncDsAP0Gaoa"
      }
    },
    {
      "cell_type": "markdown",
      "source": [
        "##### **Project Type**    - EDA/Regression/Classification/Unsupervised\n",
        "##### **Contribution**    - Team\n",
        "##### **Team Member 1 -** Irfan Momin.\n",
        "##### **Team Member 1 -** Sandesh Salunke.\n",
        "##### **Team Member 1 -** Sushil Ghodvinde.\n",
        "##### **Team Member 1 -** Rushikesh pingale.\n"
      ],
      "metadata": {
        "id": "beRrZCGUAJYm"
      }
    },
    {
      "cell_type": "markdown",
      "source": [
        "# **Project Summary -**"
      ],
      "metadata": {
        "id": "FJNUwmbgGyua"
      }
    },
    {
      "cell_type": "markdown",
      "source": [
        "Airbnb, as in “Air Bed and Breakfast”, is a service that allows property owners to rent out their spaces/condos to travelers looking for a place to stay.\n",
        "\n",
        "Airbnb was started in 2008 by Brian Chesky & Joe Gebbia, based in San Francisco, California. The platform is accessible via website and mobile app.\n",
        "\n",
        "Since 2008, guests and hosts have used Airbnb to expand on travelling possibilities and present a more unique, personalised way of experiencing the world.\n",
        "\n",
        "This millions of listings generate a lot of data- data that can be analyzed and used for security, business decisions, understanding of customers’ and providers’ (hosts) behaviour and performance on the platform, guiding marketing initiatives, implementation of innovation additional services.\n",
        "\n",
        "The biggest problems Airbnb Hosts deal with? The most common problems vacation rental hosts deal with are regulations, local laws, parties, excessive turnovers, unmanageable guests, not knowing your market and finding better guests.\n",
        "\n",
        "The theory behind the “AirBnb Effect” comes as hosts convert long-term rentals that could house local residents and families to short-term rentals for visitors, thus decreasing an already short supply of housing.\n",
        "\n",
        "The main purpose of EDA is to help look at data before making any assumptions. It can help identify obvious errors, as well as better understand patterns within the data, detect outliers or anomalous events, find interesting relations among the variables.It can help with the detection of obvious errors, a better comprehension of data patterns, the detection of outliers or unexpected events, and the discovery of interesting correlations between variables."
      ],
      "metadata": {
        "id": "F6v_1wHtG2nS"
      }
    },
    {
      "cell_type": "markdown",
      "source": [
        "# **GitHub Link -**"
      ],
      "metadata": {
        "id": "w6K7xa23Elo4"
      }
    },
    {
      "cell_type": "markdown",
      "source": [
        "https://github.com/Irfan270791"
      ],
      "metadata": {
        "id": "h1o69JH3Eqqn"
      }
    },
    {
      "cell_type": "markdown",
      "source": [
        "# **Problem Statement**\n"
      ],
      "metadata": {
        "id": "yQaldy8SH6Dl"
      }
    },
    {
      "cell_type": "markdown",
      "source": [
        "Since 2008, guests and hosts have used Airbnb to expand on travelling possibilities and present a more unique, personalised way of experiencing the world. Today, Airbnb became one of a kind service that is used and recognized by the whole world. Data analysis on millions of listings provided through Airbnb is a crucial factor for the company. These millions of listings generate a lot of data - data that can be analysed and used for security, business decisions, understanding of customers' and providers' (hosts) behaviour and performance on the platform, guiding marketing initiatives, implementation of innovative additional services and much more. This dataset has around 49,000 observations in it with 16 columns and it is a mix of categorical and numeric values. Explore and analyse the data to discover key understandings.\n",
        "\n",
        "Questions for analysis are as follows\n",
        "\n",
        "1)Which hosts are having heighest number of appartments ?\n",
        "   (a. According to 'Host name'.\n",
        "    b. According to 'Host ID'.)\n",
        "\n",
        "2) Which are the top 10 neighbourhood are having maximum number of appartments for airbnb ?\n",
        "\n",
        "3) Which top 10 hosts are having heighest number of listing ?\n",
        "\n",
        "4)Which are the top 5 neighbourhood_group that have obatained heighest no. of listing ?\n",
        "\n",
        "5) Which top 10 neighbourhood entire df on the basis of count of listing\n",
        "\n",
        "6) What is the distribution of the room type according to listing ?\n",
        "\n",
        "7) How the Price column is distributed over Room type and there are any suprising item in the price column ?\n",
        "\n",
        "8) What is the distribution of the room type according to neighbourhood_group?\n",
        "\n",
        "9) How the price column is distributed minimum_night, are there any Surprising Outliers in price column ?\n",
        "\n",
        "10) What is the corrlation in the diffrant features in df.\n",
        "\n",
        "11) What is the distribution of the room availability over the Neighbourhood_Group\n",
        "\n",
        "12) How does the Room_type is distributed over Neighbourhood_Group are the ratios of respective room_types more or less same over each neighbourhood_group ?\n",
        "\n",
        "\n"
      ],
      "metadata": {
        "id": "DpeJGUA3kjGy"
      }
    },
    {
      "cell_type": "markdown",
      "source": [
        "#### **Define Your Business Objective?**"
      ],
      "metadata": {
        "id": "PH-0ReGfmX4f"
      }
    },
    {
      "cell_type": "markdown",
      "source": [
        "The goal of data exploration is to learn about characteristics and potential problems of a data set without the need to formulate assumptions about the data beforehand.In statistics, data exploration is often referred to as \"exploratory data analysis\" and contrasts traditional hypothesis testing.\n",
        "\n",
        "it can help with the detection of obvious errors, a better comprehension of data patterns, the detection of outliers or unexpected events, and the discovery of interesting correlations between variables.\n",
        "\n",
        "Data Science technologies are at the core of identifying drivers of trust to engage more users and find out novel ways on how to alleviate trust.Data science technologies is the key differentiator for the rapid growth of AirBnB and how it is able to make better recommendation by matching the right people together."
      ],
      "metadata": {
        "id": "PhDvGCAqmjP1"
      }
    },
    {
      "cell_type": "markdown",
      "source": [
        "# **General Guidelines** : -  "
      ],
      "metadata": {
        "id": "mDgbUHAGgjLW"
      }
    },
    {
      "cell_type": "markdown",
      "source": [
        "1.   Well-structured, formatted, and commented code is required.\n",
        "2.   Exception Handling, Production Grade Code & Deployment Ready Code will be a plus. Those students will be awarded some additional credits.\n",
        "     \n",
        "     The additional credits will have advantages over other students during Star Student selection.\n",
        "       \n",
        "             [ Note: - Deployment Ready Code is defined as, the whole .ipynb notebook should be executable in one go\n",
        "                       without a single error logged. ]\n",
        "\n",
        "3.   Each and every logic should have proper comments.\n",
        "4. You may add as many number of charts you want. Make Sure for each and every chart the following format should be answered.\n",
        "        \n",
        "\n",
        "```\n",
        "# Chart visualization code\n",
        "```\n",
        "            \n",
        "\n",
        "*   Why did you pick the specific chart?\n",
        "*   What is/are the insight(s) found from the chart?\n",
        "* Will the gained insights help creating a positive business impact?\n",
        "Are there any insights that lead to negative growth? Justify with specific reason.\n",
        "\n",
        "5. You have to create at least 20 logical & meaningful charts having important insights.\n",
        "\n",
        "\n",
        "[ Hints : - Do the Vizualization in  a structured way while following \"UBM\" Rule.\n",
        "\n",
        "U - Univariate Analysis,\n",
        "\n",
        "B - Bivariate Analysis (Numerical - Categorical, Numerical - Numerical, Categorical - Categorical)\n",
        "\n",
        "M - Multivariate Analysis\n",
        " ]\n",
        "\n",
        "\n",
        "\n"
      ],
      "metadata": {
        "id": "ZrxVaUj-hHfC"
      }
    },
    {
      "cell_type": "markdown",
      "source": [
        "# ***Let's Begin !***"
      ],
      "metadata": {
        "id": "O_i_v8NEhb9l"
      }
    },
    {
      "cell_type": "markdown",
      "source": [
        "## ***1. Know Your Data***"
      ],
      "metadata": {
        "id": "HhfV-JJviCcP"
      }
    },
    {
      "cell_type": "markdown",
      "source": [
        "### Import Libraries"
      ],
      "metadata": {
        "id": "Y3lxredqlCYt"
      }
    },
    {
      "cell_type": "code",
      "source": [
        "# Import Libraries\n",
        "import pandas as pd\n",
        "import numpy as np\n",
        "from numpy import mean\n",
        "import matplotlib.pyplot as plt\n",
        "import seaborn as sns\n",
        "%matplotlib inline\n"
      ],
      "metadata": {
        "id": "M8Vqi-pPk-HR"
      },
      "execution_count": null,
      "outputs": []
    },
    {
      "cell_type": "markdown",
      "source": [
        "### Dataset Loading"
      ],
      "metadata": {
        "id": "3RnN4peoiCZX"
      }
    },
    {
      "cell_type": "code",
      "source": [
        "# Load Dataset\n",
        "# for dataset first we have mount the drive to colab notebook.\n",
        "\n",
        "from google.colab import drive\n",
        "drive.mount('/content/drive')"
      ],
      "metadata": {
        "id": "4CkvbW_SlZ_R"
      },
      "execution_count": null,
      "outputs": []
    },
    {
      "cell_type": "code",
      "source": [
        "df_air = pd.read_csv('/content/drive/MyDrive/Air Bnb- project./Airbnb NYC 2019 (2).csv')"
      ],
      "metadata": {
        "id": "M5cpQOe-3FyS"
      },
      "execution_count": null,
      "outputs": []
    },
    {
      "cell_type": "code",
      "source": [
        "from google.colab import drive\n",
        "drive.mount('/content/drive')"
      ],
      "metadata": {
        "id": "qCrcL4r-G0ZI"
      },
      "execution_count": null,
      "outputs": []
    },
    {
      "cell_type": "markdown",
      "source": [
        "### Dataset First View"
      ],
      "metadata": {
        "id": "x71ZqKXriCWQ"
      }
    },
    {
      "cell_type": "code",
      "source": [
        "# Dataset First Look\n",
        "df_air"
      ],
      "metadata": {
        "id": "LWNFOSvLl09H"
      },
      "execution_count": null,
      "outputs": []
    },
    {
      "cell_type": "code",
      "source": [
        "df_air.head()"
      ],
      "metadata": {
        "id": "zbgZBII1Lchq"
      },
      "execution_count": null,
      "outputs": []
    },
    {
      "cell_type": "markdown",
      "source": [
        "### Dataset Rows & Columns count"
      ],
      "metadata": {
        "id": "7hBIi_osiCS2"
      }
    },
    {
      "cell_type": "code",
      "source": [
        "# Dataset Rows & Columns count\n",
        "\n",
        "df_air.shape"
      ],
      "metadata": {
        "id": "Kllu7SJgmLij"
      },
      "execution_count": null,
      "outputs": []
    },
    {
      "cell_type": "markdown",
      "source": [
        "for count the rows & Column we used the .shape,\n",
        "\n",
        "as we can see there is 48895 rows & 16 columns in the dataset."
      ],
      "metadata": {
        "id": "u8IHaA3k7gjb"
      }
    },
    {
      "cell_type": "markdown",
      "source": [
        "### Dataset Information"
      ],
      "metadata": {
        "id": "JlHwYmJAmNHm"
      }
    },
    {
      "cell_type": "code",
      "source": [
        "# Dataset Info\n",
        "df_air.info()"
      ],
      "metadata": {
        "id": "e9hRXRi6meOf"
      },
      "execution_count": null,
      "outputs": []
    },
    {
      "cell_type": "markdown",
      "source": [
        "By using .info() we get the basic information about the dataset."
      ],
      "metadata": {
        "id": "21-UCD5O82TD"
      }
    },
    {
      "cell_type": "markdown",
      "source": [
        "#### Duplicate Values"
      ],
      "metadata": {
        "id": "35m5QtbWiB9F"
      }
    },
    {
      "cell_type": "code",
      "source": [
        "# Dataset Duplicate Value Count\n",
        "df_air.duplicated()"
      ],
      "metadata": {
        "id": "1sLdpKYkmox0"
      },
      "execution_count": null,
      "outputs": []
    },
    {
      "cell_type": "markdown",
      "source": [
        "as using this method its show top 5 & last 5 row. which are not duplicate, we can see the how many rows are duplicate by using following function."
      ],
      "metadata": {
        "id": "McoURvlE0tPM"
      }
    },
    {
      "cell_type": "code",
      "source": [
        "df_air.duplicated().sum()"
      ],
      "metadata": {
        "id": "QCnsxFz41WV-"
      },
      "execution_count": null,
      "outputs": []
    },
    {
      "cell_type": "markdown",
      "source": [
        "its shows that their 0 rows are duplicate."
      ],
      "metadata": {
        "id": "KwSkjSx12_yf"
      }
    },
    {
      "cell_type": "markdown",
      "source": [
        "#### Missing Values/Null Values"
      ],
      "metadata": {
        "id": "PoPl-ycgm1ru"
      }
    },
    {
      "cell_type": "code",
      "source": [
        "# Missing Values/Null Values Count\n",
        "df_air.isnull().sum()"
      ],
      "metadata": {
        "id": "GgHWkxvamxVg"
      },
      "execution_count": null,
      "outputs": []
    },
    {
      "cell_type": "markdown",
      "source": [
        "by using isnull function its shows the null value which are in column. lets look deep in and see the name & host_name are having the null values."
      ],
      "metadata": {
        "id": "kwjcWGtx1YVd"
      }
    },
    {
      "cell_type": "code",
      "source": [
        "# Missing values in 'Name' Column.\n",
        "df_air[df_air['name'].isnull()]"
      ],
      "metadata": {
        "id": "mX_-QmAt6AlN"
      },
      "execution_count": null,
      "outputs": []
    },
    {
      "cell_type": "code",
      "source": [
        "# Missing values in 'host_name' column.\n",
        "df_air[df_air['host_name'].isnull()]"
      ],
      "metadata": {
        "id": "aFe85Xp167cR"
      },
      "execution_count": null,
      "outputs": []
    },
    {
      "cell_type": "markdown",
      "source": [
        "The above dataset shows last_review & reviews_per_month are haveing the maximum number of null values."
      ],
      "metadata": {
        "id": "JYfNrBkK7l-6"
      }
    },
    {
      "cell_type": "markdown",
      "source": [
        "lets take a look the null values having in rows."
      ],
      "metadata": {
        "id": "E8hITyky8TpK"
      }
    },
    {
      "cell_type": "code",
      "source": [
        "df_air.isnull().sum(axis=1)"
      ],
      "metadata": {
        "id": "4uaNRvI2130-"
      },
      "execution_count": null,
      "outputs": []
    },
    {
      "cell_type": "code",
      "source": [
        "# Visualizing the missing values\n",
        "missing = df_air.isnull().sum()\n",
        "plt.figure(figsize=(15,8))\n",
        "missing.plot.bar()\n"
      ],
      "metadata": {
        "id": "3q5wnI3om9sJ"
      },
      "execution_count": null,
      "outputs": []
    },
    {
      "cell_type": "markdown",
      "source": [
        "### What did you know about your dataset?"
      ],
      "metadata": {
        "id": "H0kj-8xxnORC"
      }
    },
    {
      "cell_type": "markdown",
      "source": [
        "The above data having the 48895 rows and 16 coloumns. the data is heaving the losts of null values & its showing the 0 dublicate values."
      ],
      "metadata": {
        "id": "gfoNAAC-nUe_"
      }
    },
    {
      "cell_type": "markdown",
      "source": [
        "## ***2. Understanding Your Variables***"
      ],
      "metadata": {
        "id": "nA9Y7ga8ng1Z"
      }
    },
    {
      "cell_type": "code",
      "source": [
        "# Dataset Columns\n",
        "df_air.columns"
      ],
      "metadata": {
        "id": "j7xfkqrt5Ag5"
      },
      "execution_count": null,
      "outputs": []
    },
    {
      "cell_type": "code",
      "source": [
        "# Dataset Describe\n",
        "df_air.describe()"
      ],
      "metadata": {
        "id": "DnOaZdaE5Q5t"
      },
      "execution_count": null,
      "outputs": []
    },
    {
      "cell_type": "code",
      "source": [
        "# As we can see there are some properties listed with 0 price.\n",
        "# lets see how many properties are having 0 price.\n",
        "len(df_air[df_air['price']==0])"
      ],
      "metadata": {
        "id": "JfxLef8QgwfT"
      },
      "execution_count": null,
      "outputs": []
    },
    {
      "cell_type": "code",
      "source": [
        "\n",
        "pecnt_having_availabily_0 = len(df_air[df_air['availability_365']==0]['availability_365'])/len(df_air['availability_365'])*100,2\n",
        "print(f'the percentage of data having availabilty as 0 is {pecnt_having_availabily_0} ')"
      ],
      "metadata": {
        "id": "mYx0UUD1pCkD"
      },
      "execution_count": null,
      "outputs": []
    },
    {
      "cell_type": "markdown",
      "source": [
        "So we can clearly notice that availiabilty column is having minmum value as well as 25th percentile is 0 , so this seems awkward beacuse\n",
        "having availability days 0 for 36% of data is bit shocking , If you have a business of providing shelters for Airbnb your availibility is 0 days that is extreme case and extreme cases is obviously shocking when it comes 36% of data is having extreme case\n",
        "     but its not practicaly possible to exactly detect which apartments are having realy availabilty 0 days , so we will not alter this column as if we\n",
        "try to alter we can end up manipulating appartments which are really mostly busy (i.e 0 no. of days availibility)"
      ],
      "metadata": {
        "id": "eTzrfFDIwpOu"
      }
    },
    {
      "cell_type": "code",
      "source": [
        "# As we can see the min price variable is 0, max is 1000\n",
        "# so the minimum price is 0 , which is surprising as price 0 doesnt make sense to do business"
      ],
      "metadata": {
        "id": "RPpos-TwvZXQ"
      },
      "execution_count": null,
      "outputs": []
    },
    {
      "cell_type": "code",
      "source": [
        "# According to the above observation mean price is 152 /-"
      ],
      "metadata": {
        "id": "ZszSiCh1pfrZ"
      },
      "execution_count": null,
      "outputs": []
    },
    {
      "cell_type": "markdown",
      "source": [
        "### Variables Description"
      ],
      "metadata": {
        "id": "PBTbrJXOngz2"
      }
    },
    {
      "cell_type": "code",
      "source": [
        "# (Q1.- a)"
      ],
      "metadata": {
        "id": "_6R8gzAOZ-wH"
      },
      "execution_count": null,
      "outputs": []
    },
    {
      "cell_type": "code",
      "source": [
        "# lets check Which hosts are having heighest number of appartments.\n",
        "df_air['host_name'].value_counts()\n"
      ],
      "metadata": {
        "id": "kJz_vd381i2n"
      },
      "execution_count": null,
      "outputs": []
    },
    {
      "cell_type": "code",
      "source": [
        "df_air['host_id'].value_counts()"
      ],
      "metadata": {
        "id": "XqAjevbI2K0s"
      },
      "execution_count": null,
      "outputs": []
    },
    {
      "cell_type": "markdown",
      "source": [
        "From this we can see that host name Michael its appearing 417 times in the host_name column , so this might imply that michael is having\n",
        "heighest number of rooms , but from the host_id column its showing heighest appearance of any host_id is 327 , so this clearly implies that\n",
        "there can be multiple person may have same name thats why we are getting different heighest apperance in host_name as compared to host_id"
      ],
      "metadata": {
        "id": "cwzCp6Wb2jG2"
      }
    },
    {
      "cell_type": "code",
      "source": [
        "# (Q1 - b)"
      ],
      "metadata": {
        "id": "7GoXKBwbaRUw"
      },
      "execution_count": null,
      "outputs": []
    },
    {
      "cell_type": "code",
      "source": [
        "# lets check which host_name is actually having heighest number of appartments\n",
        "df_air[df_air['host_id']==219517861]['host_name'].unique()\n"
      ],
      "metadata": {
        "id": "8jRAgmdB3DBR"
      },
      "execution_count": null,
      "outputs": []
    },
    {
      "cell_type": "code",
      "source": [
        "# So Sonder is having maximum numbers of rooms for the guest, For Airbnb he might be very important person then.\n",
        "df_sonder = df_air[df_air['host_name']=='Sonder (NYC)']\n",
        "df_sonder[['host_name','neighbourhood_group','neighbourhood','latitude','longitude']].head(5)"
      ],
      "metadata": {
        "id": "Zx2z9-id3cdJ"
      },
      "execution_count": null,
      "outputs": []
    },
    {
      "cell_type": "markdown",
      "source": [
        "so Sonder (NYC) is having multiple appartments in same building in different different neighbourhood"
      ],
      "metadata": {
        "id": "g0eeiPAQ5lQf"
      }
    },
    {
      "cell_type": "code",
      "source": [
        "df_air[df_air['host_name'] == 'John' ]"
      ],
      "metadata": {
        "id": "L_s3ux3Wff0J"
      },
      "execution_count": null,
      "outputs": []
    },
    {
      "cell_type": "markdown",
      "source": [
        "By basic inspection I figured out that a particular property name will have one particular host_name hosted by that same individual but a particular host_name can have multiple properties in a area.\n",
        "\n",
        "So, host_name is a categorical variable here. Also neighbourhood_group,neighbourhood and room_type fall into this category.\n",
        "\n",
        "While id, latitude, longitude,price,minimum_nights,number_of_reviews,last_review, reviews_per_month calculated_host_listings_count, availability_365 are numerical variables"
      ],
      "metadata": {
        "id": "aJV4KIxSnxay"
      }
    },
    {
      "cell_type": "markdown",
      "source": [
        "### Check Unique Values for each variable."
      ],
      "metadata": {
        "id": "u3PMJOP6ngxN"
      }
    },
    {
      "cell_type": "code",
      "source": [
        "# Check Unique Values for each variable.\n",
        "df_air['neighbourhood'].nunique()"
      ],
      "metadata": {
        "id": "zms12Yq5n-jE"
      },
      "execution_count": null,
      "outputs": []
    },
    {
      "cell_type": "code",
      "source": [
        "df_air['host_name'].nunique()"
      ],
      "metadata": {
        "id": "N_SxL84VNWCw"
      },
      "execution_count": null,
      "outputs": []
    },
    {
      "cell_type": "code",
      "source": [
        "df_air['neighbourhood_group'].nunique()"
      ],
      "metadata": {
        "id": "PrgtIQ09NndY"
      },
      "execution_count": null,
      "outputs": []
    },
    {
      "cell_type": "code",
      "source": [
        "df_air['name'].nunique()"
      ],
      "metadata": {
        "id": "3cKVkTnINxgn"
      },
      "execution_count": null,
      "outputs": []
    },
    {
      "cell_type": "code",
      "source": [
        "df_air['name'].value_counts()"
      ],
      "metadata": {
        "id": "YDCuaDaaOy6Z"
      },
      "execution_count": null,
      "outputs": []
    },
    {
      "cell_type": "code",
      "source": [
        "df_air[df_air['name']== df_air['host_name']]"
      ],
      "metadata": {
        "id": "neq96xNcRUPQ"
      },
      "execution_count": null,
      "outputs": []
    },
    {
      "cell_type": "markdown",
      "source": [
        "as we can see that there are some listing wher the property name & host name have same name."
      ],
      "metadata": {
        "id": "1AFf0IqqRvao"
      }
    },
    {
      "cell_type": "code",
      "source": [
        "df_air[df_air['name']== 'New york Multi-unit building'].head()"
      ],
      "metadata": {
        "id": "SbD1RXQ6S212"
      },
      "execution_count": null,
      "outputs": []
    },
    {
      "cell_type": "markdown",
      "source": [
        "as we can see the same property have different host & different price range"
      ],
      "metadata": {
        "id": "OfK3nsaIVxIo"
      }
    },
    {
      "cell_type": "code",
      "source": [
        "df_air.loc[(df_air['neighbourhood_group']=='Manhattan') & (df_air['host_name']== 'Justin')].head(10)"
      ],
      "metadata": {
        "id": "OnxIvLwjWqsm"
      },
      "execution_count": null,
      "outputs": []
    },
    {
      "cell_type": "markdown",
      "source": [
        "as above experiment shows that same host have hosted different properties in same neighbourhood_group."
      ],
      "metadata": {
        "id": "F7iSeJ1xbgpI"
      }
    },
    {
      "cell_type": "code",
      "source": [
        "#  (Q.2)"
      ],
      "metadata": {
        "id": "0EH3HVl5a7sa"
      },
      "execution_count": null,
      "outputs": []
    },
    {
      "cell_type": "code",
      "source": [
        "# lets check which are the top 10 neighbourhood having maximum number of appartments for airbnb ?\n",
        "df_air['neighbourhood'].value_counts().head(10)"
      ],
      "metadata": {
        "id": "HjmvKF_xeH8l"
      },
      "execution_count": null,
      "outputs": []
    },
    {
      "cell_type": "code",
      "source": [
        "pd.value_counts(df_air['neighbourhood'])[:10].plot.bar()\n",
        "plt.figure(figsize=(15,8))"
      ],
      "metadata": {
        "id": "pHmpD0BjicpI"
      },
      "execution_count": null,
      "outputs": []
    },
    {
      "cell_type": "code",
      "source": [
        "# lets check Which are the top 5 hosts that have obatained heighest no. of reviews\n",
        "df_air[['host_name','reviews_per_month']].value_counts().head(5)"
      ],
      "metadata": {
        "id": "9RcjlCxhZMVn"
      },
      "execution_count": null,
      "outputs": []
    },
    {
      "cell_type": "markdown",
      "source": [
        "As above observation we can see the top 5 hightest no of reviwes"
      ],
      "metadata": {
        "id": "XQzs2vUCbaFw"
      }
    },
    {
      "cell_type": "markdown",
      "source": [
        "## 3. ***Data Wrangling***"
      ],
      "metadata": {
        "id": "dauF4eBmngu3"
      }
    },
    {
      "cell_type": "markdown",
      "source": [
        "### Data Wrangling Code"
      ],
      "metadata": {
        "id": "bKJF3rekwFvQ"
      }
    },
    {
      "cell_type": "code",
      "source": [
        "# Write your code to make your dataset analysis ready.\n",
        "df_air.describe()"
      ],
      "metadata": {
        "id": "wk-9a2fpoLcV"
      },
      "execution_count": null,
      "outputs": []
    },
    {
      "cell_type": "code",
      "source": [
        "# As we earlier we see there are very less missing value in 'name' column & 'host_name', so we can remove this values.\n",
        "df_air=df_air.dropna(subset=['name'])\n",
        "df_air=df_air.dropna(subset=['host_name'])"
      ],
      "metadata": {
        "id": "fTG-RvYWEGa7"
      },
      "execution_count": null,
      "outputs": []
    },
    {
      "cell_type": "code",
      "source": [
        "df_air[['host_name','name']].isnull().values.any() # as we can see the null values are remove."
      ],
      "metadata": {
        "id": "pbs3EgzCPHFk"
      },
      "execution_count": null,
      "outputs": []
    },
    {
      "cell_type": "code",
      "source": [
        "num_of_host = df_air['host_name'].nunique()\n",
        "print(f'The no of the host in datasheet : {num_of_host}')\n",
        "num_of_listing = df_air['name'].nunique()\n",
        "print(f'The no of the listing in datasheet : {num_of_listing}')"
      ],
      "metadata": {
        "id": "A8sQwiU2PtBl"
      },
      "execution_count": null,
      "outputs": []
    },
    {
      "cell_type": "code",
      "source": [
        "df_air.isnull().sum()"
      ],
      "metadata": {
        "id": "u0JvGxotS55G"
      },
      "execution_count": null,
      "outputs": []
    },
    {
      "cell_type": "markdown",
      "source": [
        "As above we see the column 'last_review' has many null values, so far we have the number_of_reviews & reviews_per_month. we're good to drop the 'last_review' column"
      ],
      "metadata": {
        "id": "YhxsWapdUAQU"
      }
    },
    {
      "cell_type": "code",
      "source": [
        "df_air = df_air.drop(['last_review'],axis=1)"
      ],
      "metadata": {
        "id": "8cuRyeGWUqPi"
      },
      "execution_count": null,
      "outputs": []
    },
    {
      "cell_type": "code",
      "source": [
        "df_air.head()"
      ],
      "metadata": {
        "id": "wcu8AhmaVify"
      },
      "execution_count": null,
      "outputs": []
    },
    {
      "cell_type": "code",
      "source": [
        "df_air.info()"
      ],
      "metadata": {
        "id": "RRUieHZsVo2p"
      },
      "execution_count": null,
      "outputs": []
    },
    {
      "cell_type": "markdown",
      "source": [
        "The column ' reviews_per_month' is showing null values so can replace by '0'"
      ],
      "metadata": {
        "id": "HG2cSGzIWVNc"
      }
    },
    {
      "cell_type": "code",
      "source": [
        "df_air['reviews_per_month']=df_air['reviews_per_month'].replace(to_replace = np.nan,value=0).astype('int64')"
      ],
      "metadata": {
        "id": "pBotVOTzW5lM"
      },
      "execution_count": null,
      "outputs": []
    },
    {
      "cell_type": "code",
      "source": [
        "df_air['reviews_per_month'].isnull().values.any()"
      ],
      "metadata": {
        "id": "dkCpbettX9R_"
      },
      "execution_count": null,
      "outputs": []
    },
    {
      "cell_type": "code",
      "source": [
        "df_air.head(3)"
      ],
      "metadata": {
        "id": "ti4VOlpZYavI"
      },
      "execution_count": null,
      "outputs": []
    },
    {
      "cell_type": "code",
      "source": [
        "df_air.info()"
      ],
      "metadata": {
        "id": "jkljkksyYrdC"
      },
      "execution_count": null,
      "outputs": []
    },
    {
      "cell_type": "code",
      "source": [
        "# (Q.3)"
      ],
      "metadata": {
        "id": "ltsDuX2MbPT3"
      },
      "execution_count": null,
      "outputs": []
    },
    {
      "cell_type": "code",
      "source": [
        "# Top 10 host on the basis of no of listing in entire dataframe.\n",
        "top_10_host =df_air['host_name'].value_counts()[:10]\n",
        "top_10_host"
      ],
      "metadata": {
        "id": "p6ccux0fW5Tw"
      },
      "execution_count": null,
      "outputs": []
    },
    {
      "cell_type": "code",
      "source": [
        "pd.value_counts(df_air['host_name'])[:10].plot.bar()"
      ],
      "metadata": {
        "id": "Lcsst8hIy6tD"
      },
      "execution_count": null,
      "outputs": []
    },
    {
      "cell_type": "markdown",
      "source": [
        "### What all manipulations have you done and insights you found?"
      ],
      "metadata": {
        "id": "MSa1f5Uengrz"
      }
    },
    {
      "cell_type": "markdown",
      "source": [
        "\n",
        "* There are very less number of missing value in 'Name' & 'Host_name' column so we remove the missing value.\n",
        "\n",
        "* In the 'last_review' column has many null values.so far we have the 'Number of Reviews' & 'Review per month' columns. so we drop the 'last_review' column.\n",
        "\n",
        "* The column 'review per month' there are null values so we replace with 0.\n",
        "\n",
        "\n"
      ],
      "metadata": {
        "id": "LbyXE7I1olp8"
      }
    },
    {
      "cell_type": "markdown",
      "source": [
        "## ***4. Data Vizualization, Storytelling & Experimenting with charts : Understand the relationships between variables***"
      ],
      "metadata": {
        "id": "GF8Ens_Soomf"
      }
    },
    {
      "cell_type": "markdown",
      "source": [
        "#### Chart - 1"
      ],
      "metadata": {
        "id": "0wOQAZs5pc--"
      }
    },
    {
      "cell_type": "code",
      "source": [
        "# Chart - 1 visualization code\n",
        "plt.figure(figsize=(15,8))\n",
        "top_10_host.plot(kind='bar' , color='g')\n",
        "plt.xlabel('top_10_hosts')\n",
        "plt.ylabel('No of listing')\n",
        "plt.title('top 10 host on the basis of no of listing in entire datafram !')"
      ],
      "metadata": {
        "id": "7v_ESjsspbW7"
      },
      "execution_count": null,
      "outputs": []
    },
    {
      "cell_type": "markdown",
      "source": [
        "##### 1. Why did you pick the specific chart?"
      ],
      "metadata": {
        "id": "K5QZ13OEpz2H"
      }
    },
    {
      "cell_type": "markdown",
      "source": [
        "Vertical chart bar are useful to compare different categorical variable."
      ],
      "metadata": {
        "id": "XESiWehPqBRc"
      }
    },
    {
      "cell_type": "code",
      "source": [
        "# Vertical Bar charts are useful to compare the diffrant categorical variable."
      ],
      "metadata": {
        "id": "E9wh6lTNX0uF"
      },
      "execution_count": null,
      "outputs": []
    },
    {
      "cell_type": "markdown",
      "source": [
        "##### 2. What is/are the insight(s) found from the chart?"
      ],
      "metadata": {
        "id": "lQ7QKXXCp7Bj"
      }
    },
    {
      "cell_type": "markdown",
      "source": [
        "In this chart we can see the top 10 host name and there no of listing."
      ],
      "metadata": {
        "id": "C_j1G7yiqdRP"
      }
    },
    {
      "cell_type": "markdown",
      "source": [
        "##### 3. Will the gained insights help creating a positive business impact?\n",
        "Are there any insights that lead to negative growth? Justify with specific reason."
      ],
      "metadata": {
        "id": "448CDAPjqfQr"
      }
    },
    {
      "cell_type": "markdown",
      "source": [
        "As we found out the top 10 host name & there listing no. that mean we are recommending it  to the customer, it will be helpfull for buisnees.\n"
      ],
      "metadata": {
        "id": "3cspy4FjqxJW"
      }
    },
    {
      "cell_type": "markdown",
      "source": [
        "#### Chart - 2"
      ],
      "metadata": {
        "id": "KSlN3yHqYklG"
      }
    },
    {
      "cell_type": "code",
      "source": [
        "# (Q.4)"
      ],
      "metadata": {
        "id": "ZlvOQ4FHcXtl"
      },
      "execution_count": null,
      "outputs": []
    },
    {
      "cell_type": "code",
      "source": [
        "# Chart - 2 visualization code\n",
        "plt.figure(figsize=(15,8))\n",
        "df_air['neighbourhood_group'].value_counts().plot(kind ='bar' , color ='r')\n",
        "plt.xlabel('neighbourhood_group')\n",
        "plt.ylabel('total df listing')\n",
        "plt.title('Count of no of listing in entire df of each neighbourhood_group!')\n"
      ],
      "metadata": {
        "id": "R4YgtaqtYklH"
      },
      "execution_count": null,
      "outputs": []
    },
    {
      "cell_type": "markdown",
      "source": [
        "##### 1. Why did you pick the specific chart?"
      ],
      "metadata": {
        "id": "t6dVpIINYklI"
      }
    },
    {
      "cell_type": "markdown",
      "source": [
        "Vertical chart bar are useful to compare different categorical variable."
      ],
      "metadata": {
        "id": "5aaW0BYyYklI"
      }
    },
    {
      "cell_type": "markdown",
      "source": [
        "##### 2. What is/are the insight(s) found from the chart?"
      ],
      "metadata": {
        "id": "ijmpgYnKYklI"
      }
    },
    {
      "cell_type": "markdown",
      "source": [
        "In the chart there are total listing according to the neighbourhood_group."
      ],
      "metadata": {
        "id": "PSx9atu2YklI"
      }
    },
    {
      "cell_type": "markdown",
      "source": [
        "##### 3. Will the gained insights help creating a positive business impact?\n",
        "Are there any insights that lead to negative growth? Justify with specific reason."
      ],
      "metadata": {
        "id": "-JiQyfWJYklI"
      }
    },
    {
      "cell_type": "markdown",
      "source": [
        "As we provide the which neighbourhood_group has the maximum listing,\n",
        "it show the positive impact. Manhatan has the maximum listing."
      ],
      "metadata": {
        "id": "BcBbebzrYklV"
      }
    },
    {
      "cell_type": "markdown",
      "source": [
        "#### Chart - 3"
      ],
      "metadata": {
        "id": "EM7whBJCYoAo"
      }
    },
    {
      "cell_type": "code",
      "source": [
        "# (Q.5)"
      ],
      "metadata": {
        "id": "acPWpsYIclib"
      },
      "execution_count": null,
      "outputs": []
    },
    {
      "cell_type": "code",
      "source": [
        "# Chart - 3 visualization code\n",
        "plt.figure(figsize=(15,8))\n",
        "top_10_neigbours = df_air['neighbourhood'].value_counts()[:10]\n",
        "top_10_neigbours.plot(kind = 'bar' , color = 'b')\n",
        "plt.xlabel('neighbourhood')\n",
        "plt.ylabel('Count in entire df')\n",
        "plt.title('Top neighbourhood in entire df on the basis of count of listing')"
      ],
      "metadata": {
        "id": "t6GMdE67YoAp"
      },
      "execution_count": null,
      "outputs": []
    },
    {
      "cell_type": "markdown",
      "source": [
        "##### 1. Why did you pick the specific chart?"
      ],
      "metadata": {
        "id": "fge-S5ZAYoAp"
      }
    },
    {
      "cell_type": "markdown",
      "source": [
        "Vertical chart bar are useful to compare different categorical variable."
      ],
      "metadata": {
        "id": "5dBItgRVYoAp"
      }
    },
    {
      "cell_type": "markdown",
      "source": [
        "##### 2. What is/are the insight(s) found from the chart?"
      ],
      "metadata": {
        "id": "85gYPyotYoAp"
      }
    },
    {
      "cell_type": "markdown",
      "source": [
        "In this chart we can see the top 10 neighbourhood on the basis of no of listing."
      ],
      "metadata": {
        "id": "4jstXR6OYoAp"
      }
    },
    {
      "cell_type": "markdown",
      "source": [
        "##### 3. Will the gained insights help creating a positive business impact?\n",
        "Are there any insights that lead to negative growth? Justify with specific reason."
      ],
      "metadata": {
        "id": "RoGjAbkUYoAp"
      }
    },
    {
      "cell_type": "markdown",
      "source": [
        "we have provied which neighbourhood has the maximum listing."
      ],
      "metadata": {
        "id": "zfJ8IqMcYoAp"
      }
    },
    {
      "cell_type": "markdown",
      "source": [
        "#### Chart - 4"
      ],
      "metadata": {
        "id": "4Of9eVA-YrdM"
      }
    },
    {
      "cell_type": "code",
      "source": [
        "# (Q.6)"
      ],
      "metadata": {
        "id": "MjBEGhA2dAsh"
      },
      "execution_count": null,
      "outputs": []
    },
    {
      "cell_type": "code",
      "source": [
        "# Chart - 4 visualization code\n",
        "df_air['room_type'].value_counts()\n",
        "df_air[['room_type']].nunique()\n",
        "plt.figure(figsize = (15,8))\n",
        "sns_6 = sns.countplot(x = 'room_type', data=df_air)\n",
        "sns_6.set_title('Room type')\n",
        "sns_6.set_ylabel('Count')\n",
        "sns_6.set_xlabel('room_type')"
      ],
      "metadata": {
        "id": "mAQTIvtqp1cj"
      },
      "execution_count": null,
      "outputs": []
    },
    {
      "cell_type": "markdown",
      "source": [
        "##### 1. Why did you pick the specific chart?"
      ],
      "metadata": {
        "id": "8e-CfyaoF8Gc"
      }
    },
    {
      "cell_type": "markdown",
      "source": [
        "Vertical chart bar are useful to compare different categorical variable"
      ],
      "metadata": {
        "id": "SryQ3Um3GLNa"
      }
    },
    {
      "cell_type": "markdown",
      "source": [
        "##### 2. What is/are the insight(s) found from the chart?"
      ],
      "metadata": {
        "id": "-quvv7i2GSzv"
      }
    },
    {
      "cell_type": "markdown",
      "source": [
        "The above observation - There are 3 type of Rooms\n",
        "1. Privet Room\n",
        "2. Entire home/apt.\n",
        "3. Shared room\n",
        "\n",
        "\n",
        "   People mostly prefered to take Entire home/apt. on rent Followed by the privet room,\n",
        "very few pepole are preferd to have shared room,    "
      ],
      "metadata": {
        "id": "mjLniZmJHw8w"
      }
    },
    {
      "cell_type": "markdown",
      "source": [
        "##### 3. Will the gained insights help creating a positive business impact?\n",
        "Are there any insights that lead to negative growth? Justify with specific reason."
      ],
      "metadata": {
        "id": "5RFCtw91Ge7Q"
      }
    },
    {
      "cell_type": "markdown",
      "source": [
        "Its show the which type of the rooms are mostly listing so, we it will be helpfull for the investment purpose."
      ],
      "metadata": {
        "id": "aOnVM1_4OWNT"
      }
    },
    {
      "cell_type": "markdown",
      "source": [
        "#### Chart - 5\n",
        "\n",
        "---\n"
      ],
      "metadata": {
        "id": "gjxu-4DtUlQG"
      }
    },
    {
      "cell_type": "code",
      "source": [
        "# Q .7"
      ],
      "metadata": {
        "id": "29kiEBQMybc9"
      },
      "execution_count": null,
      "outputs": []
    },
    {
      "cell_type": "code",
      "source": [
        "# Chart - 5 visualization code\n",
        "# let check the how many room are affordabale , cheep & Expensive using function.\n",
        "\n",
        "def price_catagory(price):\n",
        "  if price <= 80:\n",
        "    return 'cheap'\n",
        "  elif price >= 80 and price <= 500:\n",
        "    return 'affordabale'\n",
        "  else :\n",
        "        return 'Expensive'\n",
        "plt.figure(figsize = (15,8))\n",
        "ax_7= sns.countplot(x = df_air['price'].apply(price_catagory))\n",
        "ax_7.set_title('price catagory')\n",
        "ax_7.set_xlabel('Catagory of room')\n",
        "ax_7.set_ylabel('Count')\n"
      ],
      "metadata": {
        "id": "qqoBMFqfUy8a"
      },
      "execution_count": null,
      "outputs": []
    },
    {
      "cell_type": "markdown",
      "source": [
        "##### 1. Why did you pick the specific chart?"
      ],
      "metadata": {
        "id": "WshkEgl7b58x"
      }
    },
    {
      "cell_type": "markdown",
      "source": [
        "Vertical chart bar are useful to compare different categorical variable"
      ],
      "metadata": {
        "id": "XxqDW5suhQtU"
      }
    },
    {
      "cell_type": "markdown",
      "source": [
        "##### 2. What is/are the insight(s) found from the chart?"
      ],
      "metadata": {
        "id": "1zYSKc8Jb8XH"
      }
    },
    {
      "cell_type": "markdown",
      "source": [
        "We had consider to devide the whole price range in to 3 catagorys\n",
        "1. cheep - price range below or equal to 80.\n",
        "2. afforadable - price range above to 80 and under 500.\n",
        "3. Expensive - price range above 500.\n"
      ],
      "metadata": {
        "id": "GrLIMpiKcDl2"
      }
    },
    {
      "cell_type": "markdown",
      "source": [
        "##### 3. Will the gained insights help creating a positive business impact?\n",
        "Are there any insights that lead to negative growth? Justify with specific reason."
      ],
      "metadata": {
        "id": "_GJbe3MKc5ff"
      }
    },
    {
      "cell_type": "markdown",
      "source": [
        "Its look like people having more interst in having 'affordable rooms' / apt\n",
        "rather than having cheep and Expensive rooms"
      ],
      "metadata": {
        "id": "-rev-Wsoc6qk"
      }
    },
    {
      "cell_type": "markdown",
      "source": [
        "#### Chart - 6\n",
        "\n",
        "---\n",
        "\n"
      ],
      "metadata": {
        "id": "bamQiAODYuh1"
      }
    },
    {
      "cell_type": "code",
      "source": [
        "# Q- 8"
      ],
      "metadata": {
        "id": "DlVjrSPNeh6e"
      },
      "execution_count": null,
      "outputs": []
    },
    {
      "cell_type": "code",
      "source": [
        "# Chart - 6 visualization code\n",
        "plt.rcParams['figure.figsize'] = (10 , 9)\n",
        "ax= sns.countplot(y = 'room_type' ,hue='neighbourhood_group' ,data=df_air, palette='bright')\n",
        "\n",
        "total = len(df_air['room_type'])\n",
        "for p in ax.patches:\n",
        "    percentage = '{:.1f}%'.format(100 * p.get_width()/total)\n",
        "    x = p.get_x() + p.get_width() + 0.02\n",
        "    y = p.get_y() + p.get_height()/2\n",
        "    ax.annotate(percentage, (x,y))\n",
        "plt.title('count of each room types in entire df')\n",
        "plt.xlabel('Rooms')\n",
        "plt.xticks(rotation=90)\n",
        "plt.ylabel('Room Counts')"
      ],
      "metadata": {
        "id": "irlUoxc8YrdO"
      },
      "execution_count": null,
      "outputs": []
    },
    {
      "cell_type": "markdown",
      "source": [
        "##### 1. Why did you pick the specific chart?"
      ],
      "metadata": {
        "id": "iky9q4vBYrdO"
      }
    },
    {
      "cell_type": "markdown",
      "source": [
        "It usefull for comparing the diffrant groups and each group can have the common factor."
      ],
      "metadata": {
        "id": "aJRCwT6DYrdO"
      }
    },
    {
      "cell_type": "markdown",
      "source": [
        "##### 2. What is/are the insight(s) found from the chart?"
      ],
      "metadata": {
        "id": "F6T5p64dYrdO"
      }
    },
    {
      "cell_type": "markdown",
      "source": [
        "Manhattan has more listed properties with Entire home/apt around 27% of total listed properties followed by Brooklyn with around 19.6%.\n",
        "Private rooms are more in Brooklyn as in 20.7% of the total listed properties followed by Manhattan with 16.3% of them. While 6.9% of private rooms are from Queens.\n",
        "Very few of the total listing have shared rooms listed on Airbnb where there's negligible or almost very rare shared rooms in Staten Island and Bronx.\n",
        "We can infer that Brooklyn,Queens,Bronx has more private room types while Manhattan which has the highest no of listings in entire NYC has more Entire home/apt room types.\n"
      ],
      "metadata": {
        "id": "Xx8WAJvtYrdO"
      }
    },
    {
      "cell_type": "markdown",
      "source": [
        "##### 3. Will the gained insights help creating a positive business impact?\n",
        "Are there any insights that lead to negative growth? Justify with specific reason."
      ],
      "metadata": {
        "id": "y-Ehk30pYrdP"
      }
    },
    {
      "cell_type": "markdown",
      "source": [
        "In chart its shows the what room type have the more demand accordigly the neighbour_group, so its helpfull for buisness, investment purpose to which type of rooms/apartment should we invest."
      ],
      "metadata": {
        "id": "jLNxxz7MYrdP"
      }
    },
    {
      "cell_type": "markdown",
      "source": [
        "#### Chart - 7"
      ],
      "metadata": {
        "id": "OH-pJp9IphqM"
      }
    },
    {
      "cell_type": "code",
      "source": [
        "# Q -9"
      ],
      "metadata": {
        "id": "7ijntYBfex9c"
      },
      "execution_count": null,
      "outputs": []
    },
    {
      "cell_type": "code",
      "source": [
        "# Chart - 7 visualization code\n",
        "var = 'minimum_nights'\n",
        "\n",
        "data=pd.concat([df_air['price'],df_air[var]], axis=1)\n",
        "data.plot.scatter(x=var,y= 'price', ylim=(0,12000))"
      ],
      "metadata": {
        "id": "TIJwrbroYuh3"
      },
      "execution_count": null,
      "outputs": []
    },
    {
      "cell_type": "markdown",
      "source": [
        "##### 1. Why did you pick the specific chart?"
      ],
      "metadata": {
        "id": "QHF8YVU7Yuh3"
      }
    },
    {
      "cell_type": "markdown",
      "source": [
        "want to see how many data points are clusturd at which price."
      ],
      "metadata": {
        "id": "dcxuIMRPYuh3"
      }
    },
    {
      "cell_type": "markdown",
      "source": [
        "##### 2. What is/are the insight(s) found from the chart?"
      ],
      "metadata": {
        "id": "GwzvFGzlYuh3"
      }
    },
    {
      "cell_type": "markdown",
      "source": [
        "In this we have see the at which price have the listing and how many listing for minimum night."
      ],
      "metadata": {
        "id": "uyqkiB8YYuh3"
      }
    },
    {
      "cell_type": "markdown",
      "source": [
        "##### 3. Will the gained insights help creating a positive business impact?\n",
        "Are there any insights that lead to negative growth? Justify with specific reason."
      ],
      "metadata": {
        "id": "qYpmQ266Yuh3"
      }
    },
    {
      "cell_type": "markdown",
      "source": [
        "as we can see the clusturd @ 0 price range and few have the min night for stay but the price is 0. its showing that there are anomaly in price.\n",
        "also it shows the there are many outliers as well."
      ],
      "metadata": {
        "id": "_WtzZ_hCYuh4"
      }
    },
    {
      "cell_type": "markdown",
      "source": [
        "#### Chart - 8"
      ],
      "metadata": {
        "id": "PIIx-8_IphqN"
      }
    },
    {
      "cell_type": "code",
      "source": [
        "# Chart - 8 visualization code\n",
        "sns.set(rc={\"figure.figsize\": (20, 6)})\n",
        "sns.distplot(df_air['price'],hist=True)"
      ],
      "metadata": {
        "id": "kuRf4wtuphqN"
      },
      "execution_count": null,
      "outputs": []
    },
    {
      "cell_type": "markdown",
      "source": [
        "##### 1. Why did you pick the specific chart?"
      ],
      "metadata": {
        "id": "bbFf2-_FphqN"
      }
    },
    {
      "cell_type": "markdown",
      "source": [
        "want to see the what type of skew is there"
      ],
      "metadata": {
        "id": "loh7H2nzphqN"
      }
    },
    {
      "cell_type": "code",
      "source": [
        "print(\"skewness : %f\" % df_air['price'].skew())\n",
        "print(\"kurtosis : %f\" % df_air['price'].kurt())"
      ],
      "metadata": {
        "id": "417VptDwmNqB"
      },
      "execution_count": null,
      "outputs": []
    },
    {
      "cell_type": "markdown",
      "source": [
        "##### 2. What is/are the insight(s) found from the chart?"
      ],
      "metadata": {
        "id": "_ouA3fa0phqN"
      }
    },
    {
      "cell_type": "markdown",
      "source": [
        "The distribution show it has positive skew & distribution does't deviate much from normal distribution."
      ],
      "metadata": {
        "id": "VECbqPI7phqN"
      }
    },
    {
      "cell_type": "markdown",
      "source": [
        "##### 3. Will the gained insights help creating a positive business impact?\n",
        "Are there any insights that lead to negative growth? Justify with specific reason."
      ],
      "metadata": {
        "id": "Seke61FWphqN"
      }
    },
    {
      "cell_type": "markdown",
      "source": [
        "As we can see the skew & kurtosis came out very large. since the sekw has value > 1 it is a highly skewed and kurtosis is also high which indicate the good amount of outliers."
      ],
      "metadata": {
        "id": "DW4_bGpfphqN"
      }
    },
    {
      "cell_type": "markdown",
      "source": [
        "#### Chart - 9"
      ],
      "metadata": {
        "id": "puWmBtq6FT2n"
      }
    },
    {
      "cell_type": "code",
      "source": [
        "# Chart - 9 visualization code\n",
        "df_air.boxplot(column=['price'])"
      ],
      "metadata": {
        "id": "lqAIGUfyphqO"
      },
      "execution_count": null,
      "outputs": []
    },
    {
      "cell_type": "markdown",
      "source": [
        "##### 1. Why did you pick the specific chart?"
      ],
      "metadata": {
        "id": "t27r6nlMphqO"
      }
    },
    {
      "cell_type": "markdown",
      "source": [
        "It show the distribution of numeric data values and want to compare them between multiple group."
      ],
      "metadata": {
        "id": "iv6ro40sphqO"
      }
    },
    {
      "cell_type": "markdown",
      "source": [
        "##### 2. What is/are the insight(s) found from the chart?"
      ],
      "metadata": {
        "id": "r2jJGEOYphqO"
      }
    },
    {
      "cell_type": "markdown",
      "source": [
        "we can found the outliers\n",
        "\n"
      ],
      "metadata": {
        "id": "Po6ZPi4hphqO"
      }
    },
    {
      "cell_type": "markdown",
      "source": [
        "##### 3. Will the gained insights help creating a positive business impact?\n",
        "Are there any insights that lead to negative growth? Justify with specific reason."
      ],
      "metadata": {
        "id": "b0JNsNcRphqO"
      }
    },
    {
      "cell_type": "markdown",
      "source": [
        "as there are many outliers, it showing the data is not clear"
      ],
      "metadata": {
        "id": "xvSq8iUTphqO"
      }
    },
    {
      "cell_type": "code",
      "source": [
        "# Removing outliers using quantile approach\n",
        "min_threshold,max_threshold= df_air.price.quantile([0.01,0.999])\n",
        "min_threshold,max_threshold"
      ],
      "metadata": {
        "id": "CjurJBoldR0j"
      },
      "execution_count": null,
      "outputs": []
    },
    {
      "cell_type": "code",
      "source": [
        "df_air[df_air.price<min_threshold]"
      ],
      "metadata": {
        "id": "8ZjKG3uue9qA"
      },
      "execution_count": null,
      "outputs": []
    },
    {
      "cell_type": "markdown",
      "source": [
        "its shows us the price less than min threshold."
      ],
      "metadata": {
        "id": "zqi1h0UkfLrq"
      }
    },
    {
      "cell_type": "code",
      "source": [
        "df_air[df_air.price>max_threshold]"
      ],
      "metadata": {
        "id": "HgI6Nm9AfY2c"
      },
      "execution_count": null,
      "outputs": []
    },
    {
      "cell_type": "markdown",
      "source": [
        "its shows us the extreme price value above max threshold"
      ],
      "metadata": {
        "id": "5fsTXO86fsqb"
      }
    },
    {
      "cell_type": "code",
      "source": [
        "df_air_pnw = df_air[(df_air.price>min_threshold)&(df_air.price<max_threshold)]"
      ],
      "metadata": {
        "id": "MJJZxRungP__"
      },
      "execution_count": null,
      "outputs": []
    },
    {
      "cell_type": "code",
      "source": [
        "sns.distplot(df_air_pnw['price'])"
      ],
      "metadata": {
        "id": "Pmr1PCckgz1R"
      },
      "execution_count": null,
      "outputs": []
    },
    {
      "cell_type": "code",
      "source": [
        "sns.boxplot(df_air_pnw['price'])"
      ],
      "metadata": {
        "id": "W6FjAccMhyvh"
      },
      "execution_count": null,
      "outputs": []
    },
    {
      "cell_type": "markdown",
      "source": [
        "As we can see there are still many outliers"
      ],
      "metadata": {
        "id": "ga_eoQ55iHzC"
      }
    },
    {
      "cell_type": "markdown",
      "source": [
        "let try to removing the outliers using IQR"
      ],
      "metadata": {
        "id": "qjuJ8xsziwDs"
      }
    },
    {
      "cell_type": "code",
      "source": [
        "Q1 = df_air.quantile(0.25)\n",
        "Q3 = df_air.quantile(0.75)\n",
        "IQR = Q3 - Q1\n",
        "print(IQR)"
      ],
      "metadata": {
        "id": "OzM9rF2gi56z"
      },
      "execution_count": null,
      "outputs": []
    },
    {
      "cell_type": "code",
      "source": [
        "# TRYING TO REMOVING OUTLIERS USEING FUNCTION\n",
        "def outliers_treatment(datacolumn) :\n",
        "  sorted(datacolumn)\n",
        "  Q1,Q3 = np.percentile(datacolumn , [25,75])\n",
        "  IQR = Q3-Q1\n",
        "  lower_range = Q1 - (1.5 * IQR)\n",
        "  upper_range = Q3 + (1.5 * IQR)\n",
        "\n",
        "  return lower_range, upper_range"
      ],
      "metadata": {
        "id": "S4nwhK10jxtd"
      },
      "execution_count": null,
      "outputs": []
    },
    {
      "cell_type": "code",
      "source": [
        "lower_bound,upper_bound = outliers_treatment(df_air['price'])"
      ],
      "metadata": {
        "id": "cJ6ss1ccSMxf"
      },
      "execution_count": null,
      "outputs": []
    },
    {
      "cell_type": "code",
      "source": [
        "df_air[(df_air.price < lower_bound) | (df_air.price > upper_bound)]"
      ],
      "metadata": {
        "id": "CY_GHtDPSmPx"
      },
      "execution_count": null,
      "outputs": []
    },
    {
      "cell_type": "markdown",
      "source": [
        "As above we are trying to find out the lower & upper range outliers."
      ],
      "metadata": {
        "id": "DKZpkRThTxZK"
      }
    },
    {
      "cell_type": "code",
      "source": [
        "df_air_pnl = df_air[(df_air.price > lower_bound) & (df_air.price < upper_bound)]"
      ],
      "metadata": {
        "id": "7_HjYEblVMPm"
      },
      "execution_count": null,
      "outputs": []
    },
    {
      "cell_type": "code",
      "source": [
        "df_air_pnl"
      ],
      "metadata": {
        "id": "urTCdWLrVxeS"
      },
      "execution_count": null,
      "outputs": []
    },
    {
      "cell_type": "markdown",
      "source": [
        "As above we are subsetting the only those rows having datapoints greater than lower_range & lesser than upper_range."
      ],
      "metadata": {
        "id": "3DDu1y4UV7qz"
      }
    },
    {
      "cell_type": "code",
      "source": [
        "# lets check the data without outliers.\n",
        "print(\"skewness : %f\" % df_air_pnl['price'].skew())\n",
        "print(\"kurtosis : %f\" % df_air_pnl['price'].kurt())"
      ],
      "metadata": {
        "id": "GHQdh4amWpHS"
      },
      "execution_count": null,
      "outputs": []
    },
    {
      "cell_type": "code",
      "source": [
        "df_air_pnl.boxplot(column='price')"
      ],
      "metadata": {
        "id": "prfbZ78uXpZW"
      },
      "execution_count": null,
      "outputs": []
    },
    {
      "cell_type": "code",
      "source": [
        "# As we remove the Outliers let's see the distribution of new price as well.\n",
        "sns.displot(df_air_pnl['price'])"
      ],
      "metadata": {
        "id": "jxfpFNGcY-m-"
      },
      "execution_count": null,
      "outputs": []
    },
    {
      "cell_type": "markdown",
      "source": [
        "#### Chart - 10 Correlation Heatmap"
      ],
      "metadata": {
        "id": "ZnNMH5NpFfaU"
      }
    },
    {
      "cell_type": "code",
      "source": [
        "# Q-10"
      ],
      "metadata": {
        "id": "ZHEY95tofIYZ"
      },
      "execution_count": null,
      "outputs": []
    },
    {
      "cell_type": "code",
      "source": [
        "# Chart - 10 visualization code\n",
        "corrmat = df_air.corr()\n",
        "f, ax = plt.subplots(figsize=(10,8))\n",
        "sns.heatmap(corrmat, vmax=.8, square=True);"
      ],
      "metadata": {
        "id": "TdPTWpAVphqO"
      },
      "execution_count": null,
      "outputs": []
    },
    {
      "cell_type": "markdown",
      "source": [
        "##### 1. Why did you pick the specific chart?"
      ],
      "metadata": {
        "id": "jj7wYXLtphqO"
      }
    },
    {
      "cell_type": "markdown",
      "source": [
        "heatmap shows the correlation between different features"
      ],
      "metadata": {
        "id": "Ob8u6rCTphqO"
      }
    },
    {
      "cell_type": "markdown",
      "source": [
        "##### 2. What is/are the insight(s) found from the chart?"
      ],
      "metadata": {
        "id": "eZrbJ2SmphqO"
      }
    },
    {
      "cell_type": "markdown",
      "source": [
        "we can see that the correlation among the host_id to review_per_month & availability_360 & also there are correlation in the min_night to no of listing counts & availability_360. the price also show the some correlation with availability_360 & host_listing_count."
      ],
      "metadata": {
        "id": "mZtgC_hjphqO"
      }
    },
    {
      "cell_type": "markdown",
      "source": [
        "##### 3. Will the gained insights help creating a positive business impact?\n",
        "Are there any insights that lead to negative growth? Justify with specific reason."
      ],
      "metadata": {
        "id": "rFu4xreNphqO"
      }
    },
    {
      "cell_type": "markdown",
      "source": [
        "we get the overall corraltion between the different features that can affect the listing. so we know that correlation that will help to analysis the future"
      ],
      "metadata": {
        "id": "ey_0qi68phqO"
      }
    },
    {
      "cell_type": "markdown",
      "source": [
        "#### Chart - 11"
      ],
      "metadata": {
        "id": "YJ55k-q6phqO"
      }
    },
    {
      "cell_type": "code",
      "source": [
        "# Q - 11"
      ],
      "metadata": {
        "id": "gK13Ftgahl2x"
      },
      "execution_count": null,
      "outputs": []
    },
    {
      "cell_type": "code",
      "source": [
        "# Chart - 11 visualization code\n",
        "f, ax = plt.subplots(figsize=(15,8))\n",
        "ax=sns.boxplot(x='neighbourhood_group' , y='availability_365' , data=df_air,palette=\"bright\")\n",
        "plt.title(\"neighbourhood_group vs. Room availability \")\n",
        "plt.xlabel('neighbourhood_group')\n",
        "plt.ylabel('availability(365)')"
      ],
      "metadata": {
        "id": "B2aS4O1ophqO"
      },
      "execution_count": null,
      "outputs": []
    },
    {
      "cell_type": "markdown",
      "source": [
        "##### 1. Why did you pick the specific chart?"
      ],
      "metadata": {
        "id": "gCFgpxoyphqP"
      }
    },
    {
      "cell_type": "markdown",
      "source": [
        "This plot are basically used for visualizing the relationship between variables."
      ],
      "metadata": {
        "id": "TVxDimi2phqP"
      }
    },
    {
      "cell_type": "markdown",
      "source": [
        "##### 2. What is/are the insight(s) found from the chart?"
      ],
      "metadata": {
        "id": "OVtJsKN_phqQ"
      }
    },
    {
      "cell_type": "markdown",
      "source": [
        "In the above chart we see the listing in ststen island seems to be more available throughout the year to more than 300 days. On an average, these listings are available to around 210 days every year followed by bronx where every listing are available for 150 on an average every year."
      ],
      "metadata": {
        "id": "ngGi97qjphqQ"
      }
    },
    {
      "cell_type": "markdown",
      "source": [
        "##### 3. Will the gained insights help creating a positive business impact?\n",
        "Are there any insights that lead to negative growth? Justify with specific reason."
      ],
      "metadata": {
        "id": "lssrdh5qphqQ"
      }
    },
    {
      "cell_type": "markdown",
      "source": [
        "as we provide the which neighbourhood group have the maximum availability of 360 days, so it will be helpfull investment purpose ."
      ],
      "metadata": {
        "id": "tBpY5ekJphqQ"
      }
    },
    {
      "cell_type": "markdown",
      "source": [
        "#### Chart - 12"
      ],
      "metadata": {
        "id": "U2RJ9gkRphqQ"
      }
    },
    {
      "cell_type": "code",
      "source": [
        "# Chart - 12 visualization code\n",
        "df_air_pnw = df_air[(df_air.price>min_threshold)&(df_air.price<max_threshold)]\n",
        "sns.set(rc={\"figure.figsize\": (10,8)})\n",
        "ax=sns.scatterplot(data=df_air_pnw , x= \"longitude\", y=\"latitude\", hue= 'neighbourhood_group', palette= 'bright')\n",
        "ax.set_title('Location Co-ordinates')"
      ],
      "metadata": {
        "id": "GM7a4YP4phqQ"
      },
      "execution_count": null,
      "outputs": []
    },
    {
      "cell_type": "markdown",
      "source": [
        "##### 1. Why did you pick the specific chart?"
      ],
      "metadata": {
        "id": "1M8mcRywphqQ"
      }
    },
    {
      "cell_type": "markdown",
      "source": [
        "Its shows the location on map."
      ],
      "metadata": {
        "id": "8agQvks0phqQ"
      }
    },
    {
      "cell_type": "markdown",
      "source": [
        "##### 2. What is/are the insight(s) found from the chart?"
      ],
      "metadata": {
        "id": "tgIPom80phqQ"
      }
    },
    {
      "cell_type": "markdown",
      "source": [
        "Its find where the coordinates belong from the latitude & longitude."
      ],
      "metadata": {
        "id": "Qp13pnNzphqQ"
      }
    },
    {
      "cell_type": "markdown",
      "source": [
        "##### 3. Will the gained insights help creating a positive business impact?\n",
        "Are there any insights that lead to negative growth? Justify with specific reason."
      ],
      "metadata": {
        "id": "JMzcOPDDphqR"
      }
    },
    {
      "cell_type": "markdown",
      "source": [
        "The above chart shows in map the area ocuured by neighbourhood group and excat location of the area. so easy to find the location."
      ],
      "metadata": {
        "id": "R4Ka1PC2phqR"
      }
    },
    {
      "cell_type": "markdown",
      "source": [
        "#### Chart - 13   Pair Plot"
      ],
      "metadata": {
        "id": "n3dbpmDWp1ck"
      }
    },
    {
      "cell_type": "code",
      "source": [
        "# Q - 12"
      ],
      "metadata": {
        "id": "Q3o_NjryhfGB"
      },
      "execution_count": null,
      "outputs": []
    },
    {
      "cell_type": "code",
      "source": [
        "# Chart - 13 visualization code\n",
        "# applyig groupby over negithbourhood_group & room tye\n",
        "# that applying mean of price & unstacking for clear visiulization\n",
        "avg_price = df_air.groupby(['neighbourhood_group','room_type'])['price'].mean().unstack()\n",
        "avg_price"
      ],
      "metadata": {
        "id": "bwevp1tKp1ck"
      },
      "execution_count": null,
      "outputs": []
    },
    {
      "cell_type": "code",
      "source": [
        "avg_price.plot.bar(figsize=(15,8), ylabel=\"avg price\")"
      ],
      "metadata": {
        "id": "P0RlsP3yR0xg"
      },
      "execution_count": null,
      "outputs": []
    },
    {
      "cell_type": "markdown",
      "source": [
        "##### 1. Why did you pick the specific chart?"
      ],
      "metadata": {
        "id": "ylSl6qgtp1ck"
      }
    },
    {
      "cell_type": "markdown",
      "source": [
        "Pairplot allows us to plot pairwise relationships between variables within a dataset"
      ],
      "metadata": {
        "id": "m2xqNkiQp1ck"
      }
    },
    {
      "cell_type": "markdown",
      "source": [
        "##### 2. What is/are the insight(s) found from the chart?"
      ],
      "metadata": {
        "id": "ZWILFDl5p1ck"
      }
    },
    {
      "cell_type": "markdown",
      "source": [
        "As we can see that Manhanttan is most costly & Bronx is chepest."
      ],
      "metadata": {
        "id": "x-lUsV2mp1ck"
      }
    },
    {
      "cell_type": "markdown",
      "source": [
        "##### 3. Will the gained insights help creating a positive business impact?\n",
        "Are there any insights that lead to negative growth? Justify with specific reason."
      ],
      "metadata": {
        "id": "M7G43BXep1ck"
      }
    },
    {
      "cell_type": "markdown",
      "source": [
        "We can make it moere usedfull for business implimentation if we do some analysis on succsecfull host according to highest no of review, so we can suggest this price to our host for good buisness."
      ],
      "metadata": {
        "id": "5wwDJXsLp1cl"
      }
    },
    {
      "cell_type": "markdown",
      "source": [
        "#### Chart - 14"
      ],
      "metadata": {
        "id": "Ag9LCva-p1cl"
      }
    },
    {
      "cell_type": "code",
      "source": [
        "# Chart - 14 visualization code\n",
        "df_air[['availability_365']].value_counts()"
      ],
      "metadata": {
        "id": "EUfxeq9-p1cl"
      },
      "execution_count": null,
      "outputs": []
    },
    {
      "cell_type": "code",
      "source": [
        "ax= sns.scatterplot(data = df_air, x='availability_365', y='price')\n",
        "plt.title(\"Relationship between availability_365 & price\")"
      ],
      "metadata": {
        "id": "TLASYhvKt4sr"
      },
      "execution_count": null,
      "outputs": []
    },
    {
      "cell_type": "markdown",
      "source": [
        "##### 1. Why did you pick the specific chart?"
      ],
      "metadata": {
        "id": "E6MkPsBcp1cl"
      }
    },
    {
      "cell_type": "markdown",
      "source": [
        "Scatter plots are the graphs that present the relationship between two variables in a data-set. It represents data points on a two-dimensional plane or on a Cartesian system."
      ],
      "metadata": {
        "id": "V22bRsFWp1cl"
      }
    },
    {
      "cell_type": "markdown",
      "source": [
        "##### 2. What is/are the insight(s) found from the chart?"
      ],
      "metadata": {
        "id": "2cELzS2fp1cl"
      }
    },
    {
      "cell_type": "markdown",
      "source": [
        "From the above plot we can see the most of the available rooms are in the close ranage of 0 to 2000. Very few are available for price above 2000,"
      ],
      "metadata": {
        "id": "ozQPc2_Ip1cl"
      }
    },
    {
      "cell_type": "markdown",
      "source": [
        "##### 3. Will the gained insights help creating a positive business impact?\n",
        "Are there any insights that lead to negative growth? Justify with specific reason."
      ],
      "metadata": {
        "id": "3MPXvC8up1cl"
      }
    },
    {
      "cell_type": "markdown",
      "source": [
        "This is quite obvious that are very few people, who prefer to have expensive rooms."
      ],
      "metadata": {
        "id": "GL8l1tdLp1cl"
      }
    },
    {
      "cell_type": "markdown",
      "source": [
        "#### Chart - 15 -"
      ],
      "metadata": {
        "id": "NC_X3p0fY2L0"
      }
    },
    {
      "cell_type": "code",
      "source": [
        "# # Chart - 15 visualization code\n",
        "plt.style.use('fivethirtyeight')\n",
        "price_500 = df_air[df_air.price<700]\n",
        "plt.figure(figsize=(10,6))\n",
        "plt.title(\"price for each neighbourhood_group\")\n",
        "sns.boxplot(y = 'price', x = 'neighbourhood_group', data=price_500)"
      ],
      "metadata": {
        "id": "xyC9zolEZNRQ"
      },
      "execution_count": null,
      "outputs": []
    },
    {
      "cell_type": "markdown",
      "source": [
        "##### 1. Why did you pick the specific chart?"
      ],
      "metadata": {
        "id": "UV0SzAkaZNRQ"
      }
    },
    {
      "cell_type": "markdown",
      "source": [
        "This plot are basically used for visualizing the relationship between variables."
      ],
      "metadata": {
        "id": "DVPuT8LYZNRQ"
      }
    },
    {
      "cell_type": "markdown",
      "source": [
        "##### 2. What is/are the insight(s) found from the chart?"
      ],
      "metadata": {
        "id": "YPEH6qLeZNRQ"
      }
    },
    {
      "cell_type": "markdown",
      "source": [
        "We can see that manhattan is the most expensive destination immediatly followed by Brooklyn. Queens, staten_island and bronx are having price range less as compaired to other two."
      ],
      "metadata": {
        "id": "bfSqtnDqZNRR"
      }
    },
    {
      "cell_type": "markdown",
      "source": [
        "#### Chart - 16 -"
      ],
      "metadata": {
        "id": "q29F0dvdveiT"
      }
    },
    {
      "cell_type": "code",
      "source": [
        "#  visualization code"
      ],
      "metadata": {
        "id": "o58-TEIhveiU"
      },
      "execution_count": null,
      "outputs": []
    },
    {
      "cell_type": "markdown",
      "source": [
        "##### 1. Why did you pick the specific chart?"
      ],
      "metadata": {
        "id": "EXh0U9oCveiU"
      }
    },
    {
      "cell_type": "markdown",
      "source": [
        "Answer Here."
      ],
      "metadata": {
        "id": "eMmPjTByveiU"
      }
    },
    {
      "cell_type": "markdown",
      "source": [
        "##### 2. What is/are the insight(s) found from the chart?"
      ],
      "metadata": {
        "id": "22aHeOlLveiV"
      }
    },
    {
      "cell_type": "markdown",
      "source": [
        "Answer Here"
      ],
      "metadata": {
        "id": "uPQ8RGwHveiV"
      }
    },
    {
      "cell_type": "markdown",
      "source": [
        "## **5. Solution to Business Objective**"
      ],
      "metadata": {
        "id": "JcMwzZxoAimU"
      }
    },
    {
      "cell_type": "markdown",
      "source": [
        "#### What do you suggest the client to achieve Business Objective ?\n",
        "Explain Briefly."
      ],
      "metadata": {
        "id": "8G2x9gOozGDZ"
      }
    },
    {
      "cell_type": "markdown",
      "source": [
        "Airbnb’s product offerings differ between easy, affordable vacation rentals for its customers and an earning opportunity for its hosts. Renters are where Airbnb makes most of its income. As such, they maintain a high-quality mobile app and internet presence where these customers can easily make rental reservations.\n",
        "\n",
        "Hosts are Airbnb’s life-blood. Without this market they would be unable to rent out locations. The company offers hosts impressive incentives, making Airbnb hosting an easy opportunity to add a consistent stream of income.\n",
        "\n",
        "Price\n",
        "\n",
        "There is still an element of that market-based pricing at play. But now the company employs a more value-based pricing strategy that relies on the perceived and comparative value of bookings nearby to set prices.\n",
        "\n",
        "Place\n",
        "\n",
        "One of the greatest advantages Airbnb has over other rental management companies is its breadth of locations worldwide. With more than 4 million Airbnb hosts worldwide, you’re likely to find quality accommodations almost anywhere you travel.\n",
        "\n",
        "Promotion\n",
        "\n",
        "Airbnb has to promote to both travelers and guests in order to keep its rental system operating correctly. Marketing segmentation is a huge factor in Airbnb’s promotional strategy. Airbnb effectively promotes its service to travelers through a variety of traditional and digital advertisements along with word-of-mouth and referral marketing tactics. For hosts, Airbnb shares helpful content to help them make the most out of their Airbnb listings, along with traditional marketing campaigns like their “Made Possible by Hosts” campaign."
      ],
      "metadata": {
        "id": "pASKb0qOza21"
      }
    },
    {
      "cell_type": "markdown",
      "source": [
        "# **Conclusion**"
      ],
      "metadata": {
        "id": "gCX9965dhzqZ"
      }
    },
    {
      "cell_type": "markdown",
      "source": [
        "1. Manhattan & Brooklyn are the posh area in NY as there is maximum footfall & properties based on price & listing are on the higher side.\n",
        "2. Manhattan & Brooklyn have the highest number of host.\n",
        "3. Manhattan have the highest number of Privet room & Entire house/Apt. followed by Brooklyn.\n",
        "4. Highest accommodation of 10,000 USD are available in Manhattan, Brooklyn & Queens.\n",
        "5. Most popular host are Sonder, Blueground, Kara to name a few based on number of review & calculated host listing counts.\n",
        "6. Staten Island seems more available for booking throughout the year compared to other neighbourhoods.\n",
        "\n",
        "In this simple yet power full way we had done the EDA on Airbnb dataset. certainly this is not the end rather this this the start we can say as per business requirement changes we need to find the insights in that direction and justify the business problems. There can be n-number of questions and n-number of dimension to explore the dataset and find the insight from them, this there is no limit unless the business constrain is solved."
      ],
      "metadata": {
        "id": "Fjb1IsQkh3yE"
      }
    },
    {
      "cell_type": "markdown",
      "source": [
        "### ***Hurrah! You have successfully completed your EDA Capstone Project !!!***"
      ],
      "metadata": {
        "id": "gIfDvo9L0UH2"
      }
    }
  ]
}